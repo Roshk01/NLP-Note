{
 "cells": [
  {
   "cell_type": "code",
   "execution_count": 1,
   "id": "131808be",
   "metadata": {},
   "outputs": [],
   "source": [
    "import spacy"
   ]
  },
  {
   "cell_type": "code",
   "execution_count": 3,
   "id": "39a6acab",
   "metadata": {},
   "outputs": [],
   "source": [
    " nlp = spacy.blank(\"en\")"
   ]
  },
  {
   "cell_type": "code",
   "execution_count": 30,
   "id": "eca5df10",
   "metadata": {},
   "outputs": [
    {
     "name": "stdout",
     "output_type": "stream",
     "text": [
      "Hello\n",
      ",\n",
      "I\n",
      "'m\n",
      "Roshani\n",
      "and\n",
      "i\n",
      "have\n",
      "2\n",
      "$\n",
      ".\n",
      "I\n",
      "need\n",
      "job\n",
      ".\n",
      "contact\n",
      "me\n",
      "on\n",
      "kumariroshani235@gmail.com\n"
     ]
    }
   ],
   "source": [
    "doc = nlp(\"Hello, I'm Roshani and i have 2 $. I need job. contact me on kumariroshani235@gmail.com\")\n",
    "for token in doc:\n",
    "    print(token)"
   ]
  },
  {
   "cell_type": "code",
   "execution_count": 31,
   "id": "8a689b53",
   "metadata": {},
   "outputs": [
    {
     "data": {
      "text/plain": [
       "True"
      ]
     },
     "execution_count": 31,
     "metadata": {},
     "output_type": "execute_result"
    }
   ],
   "source": [
    "token8 = doc[8]\n",
    "token8.like_num"
   ]
  },
  {
   "cell_type": "code",
   "execution_count": 32,
   "id": "16127fb7",
   "metadata": {},
   "outputs": [
    {
     "data": {
      "text/plain": [
       "'2'"
      ]
     },
     "execution_count": 32,
     "metadata": {},
     "output_type": "execute_result"
    }
   ],
   "source": [
    "token8.text"
   ]
  },
  {
   "cell_type": "code",
   "execution_count": null,
   "id": "535951e2",
   "metadata": {},
   "outputs": [],
   "source": []
  },
  {
   "cell_type": "code",
   "execution_count": 33,
   "id": "4b382bbb",
   "metadata": {},
   "outputs": [
    {
     "data": {
      "text/plain": [
       "True"
      ]
     },
     "execution_count": 33,
     "metadata": {},
     "output_type": "execute_result"
    }
   ],
   "source": [
    "doc[9].is_currency"
   ]
  },
  {
   "cell_type": "code",
   "execution_count": 36,
   "id": "aec656c3",
   "metadata": {},
   "outputs": [
    {
     "ename": "AttributeError",
     "evalue": "'spacy.tokens.token.Token' object has no attribute 'like_mail'",
     "output_type": "error",
     "traceback": [
      "\u001b[1;31m---------------------------------------------------------------------------\u001b[0m",
      "\u001b[1;31mAttributeError\u001b[0m                            Traceback (most recent call last)",
      "Cell \u001b[1;32mIn[36], line 4\u001b[0m\n\u001b[0;32m      1\u001b[0m \u001b[38;5;28;01mfor\u001b[39;00m token \u001b[38;5;129;01min\u001b[39;00m doc:\n\u001b[0;32m      2\u001b[0m     \u001b[38;5;28mprint\u001b[39m(token ,\u001b[38;5;124m\"\u001b[39m\u001b[38;5;124m-> \u001b[39m\u001b[38;5;124m\"\u001b[39m, \u001b[38;5;124m\"\u001b[39m\u001b[38;5;124mindex: \u001b[39m\u001b[38;5;124m\"\u001b[39m, token\u001b[38;5;241m.\u001b[39mi, \u001b[38;5;124m\"\u001b[39m\u001b[38;5;124m --- is_alpha: \u001b[39m\u001b[38;5;124m\"\u001b[39m, token\u001b[38;5;241m.\u001b[39mis_alpha,\n\u001b[0;32m      3\u001b[0m          \u001b[38;5;124m\"\u001b[39m\u001b[38;5;124m--- is_punct: \u001b[39m\u001b[38;5;124m\"\u001b[39m, token\u001b[38;5;241m.\u001b[39mis_punct, \u001b[38;5;124m\"\u001b[39m\u001b[38;5;124m--- is_num: \u001b[39m\u001b[38;5;124m\"\u001b[39m, token\u001b[38;5;241m.\u001b[39mlike_num,\n\u001b[1;32m----> 4\u001b[0m           \u001b[38;5;124m\"\u001b[39m\u001b[38;5;124m--- is_currency: \u001b[39m\u001b[38;5;124m\"\u001b[39m, token\u001b[38;5;241m.\u001b[39mis_currency,\u001b[38;5;124m\"\u001b[39m\u001b[38;5;124m--- is_mail: \u001b[39m\u001b[38;5;124m\"\u001b[39m,\u001b[43mtoken\u001b[49m\u001b[38;5;241;43m.\u001b[39;49m\u001b[43mlike_mail\u001b[49m,\n\u001b[0;32m      5\u001b[0m          )\n",
      "\u001b[1;31mAttributeError\u001b[0m: 'spacy.tokens.token.Token' object has no attribute 'like_mail'"
     ]
    }
   ],
   "source": [
    "for token in doc:\n",
    "    print(token ,\"-> \", \"index: \", token.i, \" --- is_alpha: \", token.is_alpha,\n",
    "         \"--- is_punct: \", token.is_punct, \"--- is_num: \", token.like_num,\n",
    "          \"--- is_currency: \", token.is_currency,\"--- is_mail: \",token.like_mail,\n",
    "         )\n",
    "    "
   ]
  },
  {
   "cell_type": "code",
   "execution_count": null,
   "id": "47f7ada0",
   "metadata": {},
   "outputs": [],
   "source": []
  }
 ],
 "metadata": {
  "kernelspec": {
   "display_name": "Python 3 (ipykernel)",
   "language": "python",
   "name": "python3"
  },
  "language_info": {
   "codemirror_mode": {
    "name": "ipython",
    "version": 3
   },
   "file_extension": ".py",
   "mimetype": "text/x-python",
   "name": "python",
   "nbconvert_exporter": "python",
   "pygments_lexer": "ipython3",
   "version": "3.10.9"
  }
 },
 "nbformat": 4,
 "nbformat_minor": 5
}
