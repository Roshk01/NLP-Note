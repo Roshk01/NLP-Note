{
 "cells": [
  {
   "cell_type": "code",
   "execution_count": 1,
   "id": "907dcd2f",
   "metadata": {},
   "outputs": [],
   "source": [
    "import spacy"
   ]
  },
  {
   "cell_type": "code",
   "execution_count": 3,
   "id": "d4a01afa",
   "metadata": {},
   "outputs": [],
   "source": [
    " nlp = spacy.blank(\"en\")"
   ]
  },
  {
   "cell_type": "code",
   "execution_count": 30,
   "id": "9f16a471",
   "metadata": {},
   "outputs": [
    {
     "name": "stdout",
     "output_type": "stream",
     "text": [
      "Hello\n",
      ",\n",
      "I\n",
      "'m\n",
      "Roshani\n",
      "and\n",
      "i\n",
      "have\n",
      "2\n",
      "$\n",
      ".\n",
      "I\n",
      "need\n",
      "job\n",
      ".\n",
      "contact\n",
      "me\n",
      "on\n",
      "kumariroshani235@gmail.com\n"
     ]
    }
   ],
   "source": [
    "doc = nlp(\"Hello, I'm Roshani and i have 2 $. I need job. contact me on kumariroshani235@gmail.com\")\n",
    "for token in doc:\n",
    "    print(token)"
   ]
  },
  {
   "cell_type": "code",
   "execution_count": 31,
   "id": "764eeece",
   "metadata": {},
   "outputs": [
    {
     "data": {
      "text/plain": [
       "True"
      ]
     },
     "execution_count": 31,
     "metadata": {},
     "output_type": "execute_result"
    }
   ],
   "source": [
    "token8 = doc[8]\n",
    "token8.like_num"
   ]
  },
  {
   "cell_type": "code",
   "execution_count": 32,
   "id": "07f37417",
   "metadata": {},
   "outputs": [
    {
     "data": {
      "text/plain": [
       "'2'"
      ]
     },
     "execution_count": 32,
     "metadata": {},
     "output_type": "execute_result"
    }
   ],
   "source": [
    "token8.text"
   ]
  },
  {
   "cell_type": "code",
   "execution_count": null,
   "id": "2be05b41",
   "metadata": {},
   "outputs": [],
   "source": []
  },
  {
   "cell_type": "code",
   "execution_count": 33,
   "id": "89df1404",
   "metadata": {},
   "outputs": [
    {
     "data": {
      "text/plain": [
       "True"
      ]
     },
     "execution_count": 33,
     "metadata": {},
     "output_type": "execute_result"
    }
   ],
   "source": [
    "doc[9].is_currency"
   ]
  },
  {
   "cell_type": "code",
   "execution_count": 37,
   "id": "27dd9115",
   "metadata": {},
   "outputs": [
    {
     "name": "stdout",
     "output_type": "stream",
     "text": [
      "Hello ->  index:  0  --- is_alpha:  True --- is_punct:  False --- is_num:  False --- is_currency:  False --- is_mail:  False\n",
      ", ->  index:  1  --- is_alpha:  False --- is_punct:  True --- is_num:  False --- is_currency:  False --- is_mail:  False\n",
      "I ->  index:  2  --- is_alpha:  True --- is_punct:  False --- is_num:  False --- is_currency:  False --- is_mail:  False\n",
      "'m ->  index:  3  --- is_alpha:  False --- is_punct:  False --- is_num:  False --- is_currency:  False --- is_mail:  False\n",
      "Roshani ->  index:  4  --- is_alpha:  True --- is_punct:  False --- is_num:  False --- is_currency:  False --- is_mail:  False\n",
      "and ->  index:  5  --- is_alpha:  True --- is_punct:  False --- is_num:  False --- is_currency:  False --- is_mail:  False\n",
      "i ->  index:  6  --- is_alpha:  True --- is_punct:  False --- is_num:  False --- is_currency:  False --- is_mail:  False\n",
      "have ->  index:  7  --- is_alpha:  True --- is_punct:  False --- is_num:  False --- is_currency:  False --- is_mail:  False\n",
      "2 ->  index:  8  --- is_alpha:  False --- is_punct:  False --- is_num:  True --- is_currency:  False --- is_mail:  False\n",
      "$ ->  index:  9  --- is_alpha:  False --- is_punct:  False --- is_num:  False --- is_currency:  True --- is_mail:  False\n",
      ". ->  index:  10  --- is_alpha:  False --- is_punct:  True --- is_num:  False --- is_currency:  False --- is_mail:  False\n",
      "I ->  index:  11  --- is_alpha:  True --- is_punct:  False --- is_num:  False --- is_currency:  False --- is_mail:  False\n",
      "need ->  index:  12  --- is_alpha:  True --- is_punct:  False --- is_num:  False --- is_currency:  False --- is_mail:  False\n",
      "job ->  index:  13  --- is_alpha:  True --- is_punct:  False --- is_num:  False --- is_currency:  False --- is_mail:  False\n",
      ". ->  index:  14  --- is_alpha:  False --- is_punct:  True --- is_num:  False --- is_currency:  False --- is_mail:  False\n",
      "contact ->  index:  15  --- is_alpha:  True --- is_punct:  False --- is_num:  False --- is_currency:  False --- is_mail:  False\n",
      "me ->  index:  16  --- is_alpha:  True --- is_punct:  False --- is_num:  False --- is_currency:  False --- is_mail:  False\n",
      "on ->  index:  17  --- is_alpha:  True --- is_punct:  False --- is_num:  False --- is_currency:  False --- is_mail:  False\n",
      "kumariroshani235@gmail.com ->  index:  18  --- is_alpha:  False --- is_punct:  False --- is_num:  False --- is_currency:  False --- is_mail:  True\n"
     ]
    }
   ],
   "source": [
    "for token in doc:\n",
    "    print(token ,\"-> \", \"index: \", token.i, \" --- is_alpha: \", token.is_alpha,\n",
    "         \"--- is_punct: \", token.is_punct, \"--- is_num: \", token.like_num,\n",
    "          \"--- is_currency: \", token.is_currency,\"--- is_mail: \",token.like_email,\n",
    "         )\n",
    "    "
   ]
  },
  {
   "cell_type": "code",
   "execution_count": null,
   "id": "e3b02ce8",
   "metadata": {},
   "outputs": [],
   "source": []
  }
 ],
 "metadata": {
  "kernelspec": {
   "display_name": "Python 3 (ipykernel)",
   "language": "python",
   "name": "python3"
  },
  "language_info": {
   "codemirror_mode": {
    "name": "ipython",
    "version": 3
   },
   "file_extension": ".py",
   "mimetype": "text/x-python",
   "name": "python",
   "nbconvert_exporter": "python",
   "pygments_lexer": "ipython3",
   "version": "3.10.9"
  }
 },
 "nbformat": 4,
 "nbformat_minor": 5
}
