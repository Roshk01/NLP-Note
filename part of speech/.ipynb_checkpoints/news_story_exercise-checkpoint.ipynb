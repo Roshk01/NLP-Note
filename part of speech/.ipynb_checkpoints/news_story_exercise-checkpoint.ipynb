{
 "cells": [
  {
   "cell_type": "code",
   "execution_count": 1,
   "id": "410a65ad",
   "metadata": {},
   "outputs": [],
   "source": [
    "import spacy "
   ]
  },
  {
   "cell_type": "code",
   "execution_count": 6,
   "id": "80ef697e",
   "metadata": {},
   "outputs": [],
   "source": [
    "textFile = open(\"news_story.txt\")\n",
    "\n",
    "nlp = spacy.load(\"en_core_web_sm\")\n",
    "\n",
    "doc = nlp(textFile.read())"
   ]
  },
  {
   "cell_type": "code",
   "execution_count": 19,
   "id": "2a120c63",
   "metadata": {},
   "outputs": [],
   "source": [
    "nounlist = []\n",
    "numlist = []\n",
    "for token in doc:\n",
    "    if token.pos_ == \"NOUN\":\n",
    "        nounlist.append(token)\n",
    "    elif token.pos_ == \"NUM\":\n",
    "        numlist.append(token)"
   ]
  },
  {
   "cell_type": "code",
   "execution_count": 15,
   "id": "87912072",
   "metadata": {},
   "outputs": [
    {
     "data": {
      "text/plain": [
       "98"
      ]
     },
     "execution_count": 15,
     "metadata": {},
     "output_type": "execute_result"
    }
   ],
   "source": [
    "len(nounlist)"
   ]
  },
  {
   "cell_type": "code",
   "execution_count": 20,
   "id": "195334ae",
   "metadata": {},
   "outputs": [
    {
     "data": {
      "text/plain": [
       "20"
      ]
     },
     "execution_count": 20,
     "metadata": {},
     "output_type": "execute_result"
    }
   ],
   "source": [
    "len(numlist)"
   ]
  },
  {
   "cell_type": "code",
   "execution_count": 21,
   "id": "9c28bc07",
   "metadata": {},
   "outputs": [
    {
     "name": "stdout",
     "output_type": "stream",
     "text": [
      "[Inflation, climb, consumers, brink, expansion, consumer, price, index, measure, prices, goods, services, %, year, estimate, %, gain, ease, Marchâ€, ™]\n"
     ]
    }
   ],
   "source": [
    "print(nounlist[:20])"
   ]
  },
  {
   "cell_type": "code",
   "execution_count": 22,
   "id": "a8fe0785",
   "metadata": {},
   "outputs": [
    {
     "name": "stdout",
     "output_type": "stream",
     "text": [
      "[8.3, 8.1, 1982, 6.2, 6, â€, 0.3, 0.2, 0.6, 0.4, 0.1, 0.3, 2.6, 5.5, 2021, 1984, one, two, two, 2]\n"
     ]
    }
   ],
   "source": [
    "print(numlist[:20])"
   ]
  },
  {
   "cell_type": "code",
   "execution_count": 23,
   "id": "965842c8",
   "metadata": {},
   "outputs": [],
   "source": [
    "count = doc.count_by(spacy.attrs.POS)"
   ]
  },
  {
   "cell_type": "code",
   "execution_count": 24,
   "id": "5a186bb7",
   "metadata": {},
   "outputs": [
    {
     "data": {
      "text/plain": [
       "{92: 98,\n",
       " 100: 27,\n",
       " 86: 15,\n",
       " 85: 39,\n",
       " 96: 17,\n",
       " 97: 32,\n",
       " 90: 34,\n",
       " 95: 4,\n",
       " 87: 13,\n",
       " 89: 10,\n",
       " 84: 23,\n",
       " 103: 7,\n",
       " 93: 20,\n",
       " 94: 4,\n",
       " 98: 8,\n",
       " 101: 1}"
      ]
     },
     "execution_count": 24,
     "metadata": {},
     "output_type": "execute_result"
    }
   ],
   "source": [
    "count"
   ]
  },
  {
   "cell_type": "code",
   "execution_count": 28,
   "id": "a42e7a61",
   "metadata": {},
   "outputs": [
    {
     "data": {
      "text/plain": [
       "'VERB'"
      ]
     },
     "execution_count": 28,
     "metadata": {},
     "output_type": "execute_result"
    }
   ],
   "source": [
    "doc.vocab[100].text"
   ]
  },
  {
   "cell_type": "code",
   "execution_count": 30,
   "id": "1de27d3d",
   "metadata": {},
   "outputs": [
    {
     "name": "stdout",
     "output_type": "stream",
     "text": [
      "NOUN  ||  98\n",
      "VERB  ||  27\n",
      "ADV  ||  15\n",
      "ADP  ||  39\n",
      "PROPN  ||  17\n",
      "PUNCT  ||  32\n",
      "DET  ||  34\n",
      "PRON  ||  4\n",
      "AUX  ||  13\n",
      "CCONJ  ||  10\n",
      "ADJ  ||  23\n",
      "SPACE  ||  7\n",
      "NUM  ||  20\n",
      "PART  ||  4\n",
      "SCONJ  ||  8\n",
      "X  ||  1\n"
     ]
    }
   ],
   "source": [
    "for x,y in count.items():\n",
    "    print(doc.vocab[x].text,\" || \", y)"
   ]
  },
  {
   "cell_type": "code",
   "execution_count": null,
   "id": "0c6fb2c6",
   "metadata": {},
   "outputs": [],
   "source": []
  }
 ],
 "metadata": {
  "kernelspec": {
   "display_name": "Python 3 (ipykernel)",
   "language": "python",
   "name": "python3"
  },
  "language_info": {
   "codemirror_mode": {
    "name": "ipython",
    "version": 3
   },
   "file_extension": ".py",
   "mimetype": "text/x-python",
   "name": "python",
   "nbconvert_exporter": "python",
   "pygments_lexer": "ipython3",
   "version": "3.10.9"
  }
 },
 "nbformat": 4,
 "nbformat_minor": 5
}
