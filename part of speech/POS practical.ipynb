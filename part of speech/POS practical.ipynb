{
 "cells": [
  {
   "cell_type": "code",
   "execution_count": 1,
   "id": "fa722e37",
   "metadata": {},
   "outputs": [],
   "source": [
    "import spacy"
   ]
  },
  {
   "cell_type": "code",
   "execution_count": 2,
   "id": "63e3fb3c",
   "metadata": {},
   "outputs": [],
   "source": [
    "nlp = spacy.load(\"en_core_web_sm\")\n"
   ]
  },
  {
   "cell_type": "code",
   "execution_count": 13,
   "id": "f31c2398",
   "metadata": {},
   "outputs": [
    {
     "name": "stdout",
     "output_type": "stream",
     "text": [
      "Hello  |  INTJ  |  interjection  |  UH  |  interjection\n",
      ",  |  PUNCT  |  punctuation  |  ,  |  punctuation mark, comma\n",
      "i  |  PRON  |  pronoun  |  PRP  |  pronoun, personal\n",
      "am  |  AUX  |  auxiliary  |  VBP  |  verb, non-3rd person singular present\n",
      "sheeny  |  NOUN  |  noun  |  NN  |  noun, singular or mass\n",
      "and  |  CCONJ  |  coordinating conjunction  |  CC  |  conjunction, coordinating\n",
      "this  |  PRON  |  pronoun  |  DT  |  determiner\n",
      "is  |  AUX  |  auxiliary  |  VBZ  |  verb, 3rd person singular present\n",
      "my  |  PRON  |  pronoun  |  PRP$  |  pronoun, possessive\n",
      "code  |  NOUN  |  noun  |  NN  |  noun, singular or mass\n",
      "for  |  ADP  |  adposition  |  IN  |  conjunction, subordinating or preposition\n",
      "part  |  NOUN  |  noun  |  NN  |  noun, singular or mass\n",
      "of  |  ADP  |  adposition  |  IN  |  conjunction, subordinating or preposition\n",
      "speech  |  NOUN  |  noun  |  NN  |  noun, singular or mass\n",
      "in  |  ADP  |  adposition  |  IN  |  conjunction, subordinating or preposition\n",
      "NLP  |  PROPN  |  proper noun  |  NNP  |  noun, proper singular\n"
     ]
    }
   ],
   "source": [
    "doc = nlp(\"Hello, i am sheeny and this is my code for part of speech in NLP\")\n",
    "\n",
    "for token in doc:\n",
    "    print(token, \" | \", token.pos_, \" | \", spacy.explain(token.pos_), \" | \", token.tag_ , \" | \", spacy.explain(token.tag_))"
   ]
  },
  {
   "cell_type": "code",
   "execution_count": null,
   "id": "68339389",
   "metadata": {},
   "outputs": [],
   "source": []
  },
  {
   "cell_type": "code",
   "execution_count": null,
   "id": "1a22e555",
   "metadata": {},
   "outputs": [],
   "source": []
  }
 ],
 "metadata": {
  "kernelspec": {
   "display_name": "Python 3 (ipykernel)",
   "language": "python",
   "name": "python3"
  },
  "language_info": {
   "codemirror_mode": {
    "name": "ipython",
    "version": 3
   },
   "file_extension": ".py",
   "mimetype": "text/x-python",
   "name": "python",
   "nbconvert_exporter": "python",
   "pygments_lexer": "ipython3",
   "version": "3.10.9"
  }
 },
 "nbformat": 4,
 "nbformat_minor": 5
}
