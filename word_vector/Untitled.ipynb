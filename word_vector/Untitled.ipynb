{
 "cells": [
  {
   "cell_type": "code",
   "execution_count": 1,
   "id": "dae0631b",
   "metadata": {},
   "outputs": [],
   "source": [
    "import spacy"
   ]
  },
  {
   "cell_type": "code",
   "execution_count": 2,
   "id": "528b8607",
   "metadata": {},
   "outputs": [],
   "source": [
    "nlp = spacy.load(\"en_core_web_lg\")"
   ]
  },
  {
   "cell_type": "code",
   "execution_count": 5,
   "id": "d0b0643d",
   "metadata": {},
   "outputs": [
    {
     "name": "stdout",
     "output_type": "stream",
     "text": [
      " I : vector <--> True OOV <--> False\n",
      " love : vector <--> True OOV <--> False\n",
      " animal : vector <--> True OOV <--> False\n",
      " and : vector <--> True OOV <--> False\n",
      " XYZssssd : vector <--> False OOV <--> True\n"
     ]
    }
   ],
   "source": [
    "doc = nlp(\"I love animal and XYZssssd\")\n",
    "\n",
    "for token in doc:\n",
    "    print(f\" {token.text} : vector <--> {token.has_vector} OOV <--> {token.is_oov}\")"
   ]
  },
  {
   "cell_type": "code",
   "execution_count": 7,
   "id": "9920b589",
   "metadata": {},
   "outputs": [
    {
     "name": "stdout",
     "output_type": "stream",
     "text": [
      "i <--> car similarity 0.12873610284416884\n",
      "love <--> car similarity 0.07109074745136598\n",
      "to <--> car similarity 0.12862020268518354\n",
      "drive <--> car similarity 0.4405946160460727\n",
      "cycle <--> car similarity 0.2297890619695926\n",
      "and <--> car similarity 0.04201567964941512\n",
      "bike <--> car similarity 0.6573592516471045\n"
     ]
    }
   ],
   "source": [
    "docex = nlp(\"car\")\n",
    "doc1 = nlp(\"i love to drive cycle and bike\")\n",
    "for token in doc1:\n",
    "    print(f\"{token.text} <--> {docex.text} similarity {token.similarity(docex)}\")"
   ]
  },
  {
   "cell_type": "code",
   "execution_count": null,
   "id": "6add699d",
   "metadata": {},
   "outputs": [],
   "source": []
  }
 ],
 "metadata": {
  "kernelspec": {
   "display_name": "Python 3 (ipykernel)",
   "language": "python",
   "name": "python3"
  },
  "language_info": {
   "codemirror_mode": {
    "name": "ipython",
    "version": 3
   },
   "file_extension": ".py",
   "mimetype": "text/x-python",
   "name": "python",
   "nbconvert_exporter": "python",
   "pygments_lexer": "ipython3",
   "version": "3.10.9"
  }
 },
 "nbformat": 4,
 "nbformat_minor": 5
}
