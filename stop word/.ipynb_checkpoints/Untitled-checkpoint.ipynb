{
 "cells": [
  {
   "cell_type": "code",
   "execution_count": 1,
   "id": "1791772f",
   "metadata": {},
   "outputs": [],
   "source": [
    "from sklearn.feature_extraction.text import CountVectorizer"
   ]
  },
  {
   "cell_type": "markdown",
   "id": "ac62fc49",
   "metadata": {},
   "source": [
    "ngram_range provide the set for vectorization \n",
    "\n",
    "    ngram_range = (1,3) ==> provide set of 1, 2, and 3 \n",
    "    \n",
    "    ngram_range = (2,2) ==> provide set of 2 \n",
    "    \n",
    "    here ngram_range(min_range, max_range) is best discribe the formula"
   ]
  },
  {
   "cell_type": "code",
   "execution_count": 7,
   "id": "003c8496",
   "metadata": {},
   "outputs": [
    {
     "data": {
      "text/plain": [
       "{'hello': 6,\n",
       " 'this': 20,\n",
       " 'is': 9,\n",
       " 'my': 12,\n",
       " 'python': 15,\n",
       " 'code': 0,\n",
       " 'for': 3,\n",
       " 'stop': 18,\n",
       " 'word': 23,\n",
       " 'hello this': 7,\n",
       " 'this is': 21,\n",
       " 'is my': 10,\n",
       " 'my python': 13,\n",
       " 'python code': 16,\n",
       " 'code for': 1,\n",
       " 'for stop': 4,\n",
       " 'stop word': 19,\n",
       " 'hello this is': 8,\n",
       " 'this is my': 22,\n",
       " 'is my python': 11,\n",
       " 'my python code': 14,\n",
       " 'python code for': 17,\n",
       " 'code for stop': 2,\n",
       " 'for stop word': 5}"
      ]
     },
     "execution_count": 7,
     "metadata": {},
     "output_type": "execute_result"
    }
   ],
   "source": [
    "v = CountVectorizer(ngram_range=(1,3))\n",
    "v.fit(['hello, this is my python code for stop word'])\n",
    "v.vocabulary_"
   ]
  },
  {
   "cell_type": "code",
   "execution_count": 14,
   "id": "79ea5845",
   "metadata": {},
   "outputs": [],
   "source": [
    "import spacy\n",
    "nlp = spacy.load('en_core_web_sm')\n",
    "\n",
    "def preprocess(text):\n",
    "    doc = nlp(text)\n",
    "    nlp_set = []\n",
    "    for token in doc:\n",
    "        if token.is_stop or token.is_punct:\n",
    "            continue\n",
    "        else:\n",
    "            nlp_set.append(token.lemma_)\n",
    "        \n",
    "    return ' '.join(nlp_set)"
   ]
  },
  {
   "cell_type": "code",
   "execution_count": 19,
   "id": "ed0c2895",
   "metadata": {},
   "outputs": [],
   "source": [
    "data = 'rohit am eating Pizza and pasta'\n",
    "\n",
    "clean_data = preprocess(data)"
   ]
  },
  {
   "cell_type": "code",
   "execution_count": 20,
   "id": "833d3fcc",
   "metadata": {},
   "outputs": [
    {
     "data": {
      "text/plain": [
       "{'rohit': 6,\n",
       " 'eat': 0,\n",
       " 'pizza': 4,\n",
       " 'pasta': 3,\n",
       " 'rohit eat': 7,\n",
       " 'eat pizza': 1,\n",
       " 'pizza pasta': 5,\n",
       " 'rohit eat pizza': 8,\n",
       " 'eat pizza pasta': 2}"
      ]
     },
     "execution_count": 20,
     "metadata": {},
     "output_type": "execute_result"
    }
   ],
   "source": [
    "v.fit([clean_data])\n",
    "v.vocabulary_"
   ]
  },
  {
   "cell_type": "code",
   "execution_count": null,
   "id": "4d91e842",
   "metadata": {},
   "outputs": [],
   "source": []
  }
 ],
 "metadata": {
  "kernelspec": {
   "display_name": "Python 3 (ipykernel)",
   "language": "python",
   "name": "python3"
  },
  "language_info": {
   "codemirror_mode": {
    "name": "ipython",
    "version": 3
   },
   "file_extension": ".py",
   "mimetype": "text/x-python",
   "name": "python",
   "nbconvert_exporter": "python",
   "pygments_lexer": "ipython3",
   "version": "3.10.9"
  }
 },
 "nbformat": 4,
 "nbformat_minor": 5
}
