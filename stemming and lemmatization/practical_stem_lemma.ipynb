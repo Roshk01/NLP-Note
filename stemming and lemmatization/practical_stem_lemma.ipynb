{
 "cells": [
  {
   "cell_type": "code",
   "execution_count": 1,
   "id": "3955a517",
   "metadata": {},
   "outputs": [],
   "source": [
    "import spacy \n",
    "import nltk"
   ]
  },
  {
   "cell_type": "code",
   "execution_count": 2,
   "id": "d7f2eaa3",
   "metadata": {},
   "outputs": [],
   "source": [
    "from nltk.stem import PorterStemmer\n",
    "stemmer = PorterStemmer()"
   ]
  },
  {
   "cell_type": "code",
   "execution_count": 4,
   "id": "3388b8cb",
   "metadata": {},
   "outputs": [
    {
     "name": "stdout",
     "output_type": "stream",
     "text": [
      "help  ||  help\n",
      "helping  ||  help\n",
      "helped  ||  help\n",
      "did  ||  did\n",
      "beauty  ||  beauti\n",
      "adjustable  ||  adjust\n",
      "flexible  ||  flexibl\n"
     ]
    }
   ],
   "source": [
    "words = [\"help\", 'helping', 'helped', 'did', 'beauty','adjustable','flexible']\n",
    "\n",
    "for word in words:\n",
    "    print(word, \" || \", stemmer.stem(word))"
   ]
  },
  {
   "cell_type": "code",
   "execution_count": 16,
   "id": "999b8327",
   "metadata": {},
   "outputs": [
    {
     "name": "stdout",
     "output_type": "stream",
     "text": [
      "helping  ||  helping  ||  14402036221983944882\n",
      "helps  ||  help  ||  17461235395181654430\n",
      "helped  ||  helped  ||  13367314321634499193\n",
      "eat  ||  eat  ||  9837207709914848172\n",
      "eating  ||  eat  ||  9837207709914848172\n",
      "eats  ||  eat  ||  9837207709914848172\n",
      "did  ||  do  ||  2158845516055552166\n",
      "beauty  ||  beauty  ||  14900920105117121813\n",
      "adjustable  ||  adjustable  ||  6033511944150694480\n",
      "flexible  ||  flexible  ||  15266520306116326022\n"
     ]
    }
   ],
   "source": [
    "nlp = spacy.load(\"en_core_web_sm\")\n",
    "doc = nlp(\"helping helps helped eat eating eats did beauty adjustable flexible\")\n",
    "for token in doc:\n",
    "    print(token ,\" || \" , token.lemma_ ,\" || \", token.lemma)"
   ]
  },
  {
   "cell_type": "markdown",
   "id": "75435f1d",
   "metadata": {},
   "source": [
    "# attribute_ruler\n",
    "modify the lemma with your own words "
   ]
  },
  {
   "cell_type": "code",
   "execution_count": 21,
   "id": "c071fb47",
   "metadata": {},
   "outputs": [
    {
     "name": "stdout",
     "output_type": "stream",
     "text": [
      "heyaa  ||   Hello\n",
      ",  ||  ,\n",
      "how  ||  how\n",
      "are  ||  be\n",
      "you  ||  you\n",
      "?  ||  ?\n",
      "heyy  ||   Hello\n",
      ",  ||  ,\n",
      "i  ||  I\n",
      "'m  ||  be\n",
      "good  ||  good\n",
      ".  ||  .\n",
      "what  ||  what\n",
      "about  ||  about\n",
      "you  ||  you\n",
      "?  ||  ?\n",
      "you  ||  you\n",
      "wanna  ||  want to\n",
      "say  ||  say\n",
      "hlw  ||   Hello\n",
      "to  ||  to\n",
      "sheeny  ||  sheeny\n",
      "!  ||  !\n",
      "look  ||  look\n",
      "she  ||  she\n",
      "'s  ||  be\n",
      "here  ||  here\n",
      ".  ||  .\n"
     ]
    }
   ],
   "source": [
    "att = nlp.get_pipe('attribute_ruler')\n",
    "att.add([[{\"text\":\"heyaa\"}],[{\"text\":\"heyy\"}],[{\"text\":\"hlw\"}]],{\"LEMMA\":\" Hello\"})\n",
    "att.add([[{\"text\":\"wanna\"}]],{\"LEMMA\":\"want to\"})\n",
    "doc = nlp(\"heyaa, how are you? heyy, i'm good. what about you? you wanna say hlw to sheeny! look she's here.\")\n",
    "for token in doc:\n",
    "    print(token, \" || \", token.lemma_)"
   ]
  },
  {
   "cell_type": "code",
   "execution_count": 20,
   "id": "873a22e4",
   "metadata": {},
   "outputs": [
    {
     "data": {
      "text/plain": [
       "' Hello'"
      ]
     },
     "execution_count": 20,
     "metadata": {},
     "output_type": "execute_result"
    }
   ],
   "source": [
    "doc[0].lemma_"
   ]
  }
 ],
 "metadata": {
  "kernelspec": {
   "display_name": "Python 3 (ipykernel)",
   "language": "python",
   "name": "python3"
  },
  "language_info": {
   "codemirror_mode": {
    "name": "ipython",
    "version": 3
   },
   "file_extension": ".py",
   "mimetype": "text/x-python",
   "name": "python",
   "nbconvert_exporter": "python",
   "pygments_lexer": "ipython3",
   "version": "3.10.9"
  }
 },
 "nbformat": 4,
 "nbformat_minor": 5
}
