{
 "cells": [
  {
   "cell_type": "code",
   "execution_count": 3,
   "id": "a4947730",
   "metadata": {},
   "outputs": [],
   "source": [
    "import re\n"
   ]
  },
  {
   "cell_type": "code",
   "execution_count": 10,
   "id": "a26c80b8",
   "metadata": {},
   "outputs": [
    {
     "data": {
      "text/plain": [
       "['sinrosh240@gmail.com', 'Rosh.sin@studentambassadors.com']"
      ]
     },
     "execution_count": 10,
     "metadata": {},
     "output_type": "execute_result"
    }
   ],
   "source": [
    "text = \" hello Roshani this is my email sinrosh240@gmail.com, Rosh.sin@studentambassadors.com and this is my phone no is 9667058789. my international no is (123)-234-4567\"\n",
    "pattern = '\\d{10}|\\(\\d{3}\\)-\\d{3}-\\d{4}'\n",
    "mailpattern = '[a-zA-Z0-9_.]*@[a-zA-Z]*\\.com'\n",
    "eml = re.findall(mailpattern, text)\n",
    "eml"
   ]
  },
  {
   "cell_type": "code",
   "execution_count": 11,
   "id": "105f720a",
   "metadata": {},
   "outputs": [
    {
     "data": {
      "text/plain": [
       "['9667058789', '(123)-234-4567']"
      ]
     },
     "execution_count": 11,
     "metadata": {},
     "output_type": "execute_result"
    }
   ],
   "source": [
    "x = re.findall(pattern,text)\n",
    "x"
   ]
  }
 ],
 "metadata": {
  "kernelspec": {
   "display_name": "Python 3 (ipykernel)",
   "language": "python",
   "name": "python3"
  },
  "language_info": {
   "codemirror_mode": {
    "name": "ipython",
    "version": 3
   },
   "file_extension": ".py",
   "mimetype": "text/x-python",
   "name": "python",
   "nbconvert_exporter": "python",
   "pygments_lexer": "ipython3",
   "version": "3.10.9"
  }
 },
 "nbformat": 4,
 "nbformat_minor": 5
}
